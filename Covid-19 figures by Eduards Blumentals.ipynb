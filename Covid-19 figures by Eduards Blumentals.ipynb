{
 "cells": [
  {
   "cell_type": "markdown",
   "metadata": {},
   "source": [
    "First, let's import all the packages we will need for this project"
   ]
  },
  {
   "cell_type": "code",
   "execution_count": 3,
   "metadata": {},
   "outputs": [],
   "source": [
    "import requests\n",
    "from datetime import datetime, timedelta\n",
    "import pandas as pd\n",
    "import matplotlib.pyplot as plt \n",
    "import numpy as np"
   ]
  },
  {
   "cell_type": "markdown",
   "metadata": {},
   "source": [
    "Configure pandas"
   ]
  },
  {
   "cell_type": "code",
   "execution_count": 4,
   "metadata": {},
   "outputs": [],
   "source": [
    "pd.set_option('max_colwidth', 100)\n",
    "pd.set_option('display.max_rows', 100)\n",
    "pd.set_option('display.min_rows', None)"
   ]
  },
  {
   "cell_type": "markdown",
   "metadata": {},
   "source": [
    "To see the disease development over time, let's access the Covid-19 data API kindly provided by the [Johns Hopkins CSSE](https://covid19api.com/).\n",
    "\n",
    "[Postman COVID-19 API Resource Center](https://covid-19-apis.postman.com/)"
   ]
  },
  {
   "cell_type": "code",
   "execution_count": 5,
   "metadata": {},
   "outputs": [],
   "source": [
    "def timeSeriesInstructions():\n",
    "    \n",
    "    r = requests.get('https://api.covid19api.com/')\n",
    "    instructions_dic = r.json()\n",
    "    instructions = pd.DataFrame.from_dict(instructions_dic).transpose()\n",
    "    \n",
    "    return instructions"
   ]
  },
  {
   "cell_type": "code",
   "execution_count": 23,
   "metadata": {},
   "outputs": [],
   "source": [
    "def testTimeSeriesInstructions():\n",
    "    \n",
    "    instructions = timeSeriesInstructions()\n",
    "    assert instructions.empty == False\n",
    "\n",
    "testTimeSeriesInstructions()"
   ]
  },
  {
   "cell_type": "code",
   "execution_count": 7,
   "metadata": {},
   "outputs": [],
   "source": [
    "def filterDate(data, date = '2020-03-01'):\n",
    "    \n",
    "    filter_date = data['Date'] >= date\n",
    "    data = data[filter_date]\n",
    "    \n",
    "    return data"
   ]
  },
  {
   "cell_type": "code",
   "execution_count": 8,
   "metadata": {},
   "outputs": [],
   "source": [
    "def timeSeriesData(list_countries = ['estonia', 'latvia', 'lithuania']):\n",
    "\n",
    "    data = []\n",
    "\n",
    "    for country in list_countries:\n",
    "        r = requests.get(f'https://api.covid19api.com/country/{country}')\n",
    "        data_dic = r.json()\n",
    "        raw_data = pd.DataFrame.from_dict(data_dic)\n",
    "\n",
    "        filter_province = raw_data['Province'] != ''\n",
    "        raw_data.drop(index = raw_data[filter_province].index, inplace = True)\n",
    "\n",
    "        filter_columns = ['CountryCode', 'Province', 'City', 'CityCode', 'Lat', 'Lon', 'Active']\n",
    "        raw_data.drop(columns = filter_columns, inplace = True)\n",
    "\n",
    "        raw_data['Date'] = pd.to_datetime(raw_data['Date'], format = '%Y-%m-%dT%H:%M:%SZ')\n",
    "        \n",
    "        numeric_columns = ['Confirmed', 'Deaths', 'Recovered']\n",
    "        raw_data[numeric_columns] = raw_data[numeric_columns].apply(pd.to_numeric)\n",
    "\n",
    "        data.append(raw_data)\n",
    "\n",
    "    data = pd.concat(data)\n",
    "\n",
    "    column_names = ['Country', 'Date', 'Confirmed', 'Deaths', 'Recovered']\n",
    "    data = data.reindex(columns = column_names)\n",
    "\n",
    "    data = filterDate(data)\n",
    "    country_group = data.groupby('Country')    \n",
    "\n",
    "    return country_group"
   ]
  },
  {
   "cell_type": "code",
   "execution_count": 10,
   "metadata": {},
   "outputs": [],
   "source": [
    "def pickCountry(country_group, country_name):\n",
    "    \n",
    "    country_name = country_name.title()\n",
    "    ts_data = country_group.get_group(country_name)\n",
    "    ts_data.reset_index(drop = True, inplace = True)\n",
    "    \n",
    "    return ts_data"
   ]
  },
  {
   "cell_type": "code",
   "execution_count": 57,
   "metadata": {},
   "outputs": [],
   "source": [
    "def testTimeSeriesData():\n",
    "    \n",
    "    try:\n",
    "        test = timeSeriesData()\n",
    "        test = pickCountry(test, 'Latvia')\n",
    "    \n",
    "        assert test['Date'].iloc[0] == datetime.strptime('2020-03-01', '%Y-%m-%d')\n",
    "        assert list(test.columns) == ['Country', 'Date', 'Confirmed', 'Deaths', 'Recovered']\n",
    "        assert type(test['Confirmed'].iloc[0]) == np.int64\n",
    "    except:\n",
    "        print('Assertion error detected. Please, inspect testTimeSeriesData() function.')\n",
    "        \n",
    "testTimeSeriesData()"
   ]
  },
  {
   "cell_type": "code",
   "execution_count": 11,
   "metadata": {},
   "outputs": [],
   "source": [
    "def dailyChanges(ts_data, prc = False, periods = 1):\n",
    "    numeric_columns = ['Confirmed', 'Deaths', 'Recovered']\n",
    "    legend_data = ts_data[['Country', 'Date']]\n",
    "\n",
    "    if (prc):\n",
    "        change_data = round(100 * ts_data[numeric_columns].pct_change(periods = periods), 2)\n",
    "        change_data.replace([np.inf, np.nan], 0, inplace = True)\n",
    "    else:\n",
    "        change_data = ts_data[numeric_columns].diff(periods = periods)\n",
    "        change_data.replace([np.inf, np.nan], 0, inplace = True)\n",
    "        change_data = change_data.astype(int)\n",
    "\n",
    "    diff_data = pd.concat([legend_data, change_data], axis = 1)\n",
    "    \n",
    "    upper_bound = diff_data.index[:periods]\n",
    "    diff_data.drop(labels = upper_bound, axis = 0, inplace = True)\n",
    "    \n",
    "    diff_data.reset_index(drop = True, inplace = True)\n",
    "\n",
    "    return diff_data"
   ]
  },
  {
   "cell_type": "markdown",
   "metadata": {},
   "source": [
    "To see more insights of the current situation, let's extract cross-sectional data from the [NovelCOVID API](https://github.com/javieraviles/covidAPI)"
   ]
  },
  {
   "cell_type": "code",
   "execution_count": 13,
   "metadata": {},
   "outputs": [],
   "source": [
    "def crossSectionalData():\n",
    "    \n",
    "    r = requests.get('https://coronavirus-19-api.herokuapp.com/countries')\n",
    "    cs_data_dic = r.json()\n",
    "    cs_data = pd.DataFrame.from_dict(cs_data_dic)\n",
    "    \n",
    "    cs_data = cs_data.loc[8:218]\n",
    "    \n",
    "    cs_data = cs_data.apply(pd.to_numeric, errors = 'ignore')\n",
    "    cs_data['Population (M)'] = round((cs_data['cases'] / cs_data['casesPerOneMillion']), 2)\n",
    "    \n",
    "    cs_data['Population (M)'].replace([np.inf, 0], np.nan, inplace = True)\n",
    "    cs_data.dropna(axis = 0, subset = ['Population (M)'], inplace = True)\n",
    "    \n",
    "    filter_columns = ['todayCases', 'todayDeaths', 'active', 'critical', 'casesPerOneMillion', 'deathsPerOneMillion', 'testsPerOneMillion']\n",
    "    cs_data.drop(columns = filter_columns, inplace = True)\n",
    "    \n",
    "    cs_data.reset_index(drop = True, inplace = True)\n",
    "    \n",
    "    return cs_data"
   ]
  },
  {
   "cell_type": "markdown",
   "metadata": {},
   "source": [
    "For some reason China is missing. Some countries are reporting 0 cases per million of populations, hence their population is being astimated to be equal to infinity. As thsese countries do not impact the analysis much, I just remove these observations from the dataset. "
   ]
  },
  {
   "cell_type": "code",
   "execution_count": 14,
   "metadata": {},
   "outputs": [],
   "source": [
    "def aggregateOtherCountries(number_of_countries, include_other = True):\n",
    "    \n",
    "    cs_data = crossSectionalData()\n",
    "    lower_bound = number_of_countries + 1\n",
    "    \n",
    "    agg_part = cs_data.iloc[lower_bound:]\n",
    "    non_agg_part = cs_data.iloc[:number_of_countries] \n",
    "    \n",
    "    other_row = agg_part.sum(numeric_only=True)\n",
    "    other_row['country'] = 'Other countries*'\n",
    "    \n",
    "    if (include_other):\n",
    "        agg_data = non_agg_part.append(other_row, ignore_index=True)\n",
    "    else:\n",
    "        agg_data = non_agg_part\n",
    "        \n",
    "    return agg_data\n"
   ]
  },
  {
   "cell_type": "code",
   "execution_count": 15,
   "metadata": {},
   "outputs": [
    {
     "data": {
      "text/html": [
       "<div>\n",
       "<style scoped>\n",
       "    .dataframe tbody tr th:only-of-type {\n",
       "        vertical-align: middle;\n",
       "    }\n",
       "\n",
       "    .dataframe tbody tr th {\n",
       "        vertical-align: top;\n",
       "    }\n",
       "\n",
       "    .dataframe thead th {\n",
       "        text-align: right;\n",
       "    }\n",
       "</style>\n",
       "<table border=\"1\" class=\"dataframe\">\n",
       "  <thead>\n",
       "    <tr style=\"text-align: right;\">\n",
       "      <th></th>\n",
       "      <th>country</th>\n",
       "      <th>cases</th>\n",
       "      <th>deaths</th>\n",
       "      <th>recovered</th>\n",
       "      <th>totalTests</th>\n",
       "      <th>Population (M)</th>\n",
       "    </tr>\n",
       "  </thead>\n",
       "  <tbody>\n",
       "    <tr>\n",
       "      <th>0</th>\n",
       "      <td>USA</td>\n",
       "      <td>960896.0</td>\n",
       "      <td>54265.0</td>\n",
       "      <td>118162.0</td>\n",
       "      <td>5279237.0</td>\n",
       "      <td>331.00</td>\n",
       "    </tr>\n",
       "    <tr>\n",
       "      <th>1</th>\n",
       "      <td>Spain</td>\n",
       "      <td>223759.0</td>\n",
       "      <td>22902.0</td>\n",
       "      <td>95708.0</td>\n",
       "      <td>930230.0</td>\n",
       "      <td>46.75</td>\n",
       "    </tr>\n",
       "    <tr>\n",
       "      <th>2</th>\n",
       "      <td>Italy</td>\n",
       "      <td>195351.0</td>\n",
       "      <td>26384.0</td>\n",
       "      <td>63120.0</td>\n",
       "      <td>1707743.0</td>\n",
       "      <td>60.46</td>\n",
       "    </tr>\n",
       "    <tr>\n",
       "      <th>3</th>\n",
       "      <td>France</td>\n",
       "      <td>161488.0</td>\n",
       "      <td>22614.0</td>\n",
       "      <td>44594.0</td>\n",
       "      <td>463662.0</td>\n",
       "      <td>65.27</td>\n",
       "    </tr>\n",
       "    <tr>\n",
       "      <th>4</th>\n",
       "      <td>Germany</td>\n",
       "      <td>156513.0</td>\n",
       "      <td>5877.0</td>\n",
       "      <td>109800.0</td>\n",
       "      <td>2072669.0</td>\n",
       "      <td>83.79</td>\n",
       "    </tr>\n",
       "    <tr>\n",
       "      <th>5</th>\n",
       "      <td>UK</td>\n",
       "      <td>148377.0</td>\n",
       "      <td>20319.0</td>\n",
       "      <td>NaN</td>\n",
       "      <td>640792.0</td>\n",
       "      <td>67.88</td>\n",
       "    </tr>\n",
       "    <tr>\n",
       "      <th>6</th>\n",
       "      <td>Turkey</td>\n",
       "      <td>107773.0</td>\n",
       "      <td>2706.0</td>\n",
       "      <td>25582.0</td>\n",
       "      <td>868565.0</td>\n",
       "      <td>84.33</td>\n",
       "    </tr>\n",
       "    <tr>\n",
       "      <th>7</th>\n",
       "      <td>Iran</td>\n",
       "      <td>90481.0</td>\n",
       "      <td>5710.0</td>\n",
       "      <td>69657.0</td>\n",
       "      <td>421313.0</td>\n",
       "      <td>84.01</td>\n",
       "    </tr>\n",
       "    <tr>\n",
       "      <th>8</th>\n",
       "      <td>Russia</td>\n",
       "      <td>80949.0</td>\n",
       "      <td>747.0</td>\n",
       "      <td>6767.0</td>\n",
       "      <td>2877699.0</td>\n",
       "      <td>145.85</td>\n",
       "    </tr>\n",
       "    <tr>\n",
       "      <th>9</th>\n",
       "      <td>Brazil</td>\n",
       "      <td>59324.0</td>\n",
       "      <td>4057.0</td>\n",
       "      <td>29160.0</td>\n",
       "      <td>291922.0</td>\n",
       "      <td>212.63</td>\n",
       "    </tr>\n",
       "    <tr>\n",
       "      <th>10</th>\n",
       "      <td>Other countries*</td>\n",
       "      <td>626078.0</td>\n",
       "      <td>26492.0</td>\n",
       "      <td>190088.0</td>\n",
       "      <td>11549096.0</td>\n",
       "      <td>4977.73</td>\n",
       "    </tr>\n",
       "  </tbody>\n",
       "</table>\n",
       "</div>"
      ],
      "text/plain": [
       "             country     cases   deaths  recovered  totalTests  Population (M)\n",
       "0                USA  960896.0  54265.0   118162.0   5279237.0          331.00\n",
       "1              Spain  223759.0  22902.0    95708.0    930230.0           46.75\n",
       "2              Italy  195351.0  26384.0    63120.0   1707743.0           60.46\n",
       "3             France  161488.0  22614.0    44594.0    463662.0           65.27\n",
       "4            Germany  156513.0   5877.0   109800.0   2072669.0           83.79\n",
       "5                 UK  148377.0  20319.0        NaN    640792.0           67.88\n",
       "6             Turkey  107773.0   2706.0    25582.0    868565.0           84.33\n",
       "7               Iran   90481.0   5710.0    69657.0    421313.0           84.01\n",
       "8             Russia   80949.0    747.0     6767.0   2877699.0          145.85\n",
       "9             Brazil   59324.0   4057.0    29160.0    291922.0          212.63\n",
       "10  Other countries*  626078.0  26492.0   190088.0  11549096.0         4977.73"
      ]
     },
     "execution_count": 15,
     "metadata": {},
     "output_type": "execute_result"
    }
   ],
   "source": [
    "aggregateOtherCountries(number_of_countries = 10, include_other = True)"
   ]
  },
  {
   "cell_type": "markdown",
   "metadata": {},
   "source": [
    "timeSeriesInstructions()\n",
    "\n",
    "filterDate(data, date = '2020-03-01')\n",
    "\n",
    "timeSeriesData(list_countries = \\['estonia', 'latvia', 'lithuania'\\])\n",
    "\n",
    "pickCountry(country_group, country_name)\n",
    "\n",
    "dailyChanges(ts_data, prc = False, periods = 1)\n",
    "\n",
    "\n",
    "crossSectionalData()\n",
    "\n",
    "aggregateOtherCountries(number_of_countries, include_other = True)\n"
   ]
  }
 ],
 "metadata": {
  "kernelspec": {
   "display_name": "Python 3",
   "language": "python",
   "name": "python3"
  },
  "language_info": {
   "codemirror_mode": {
    "name": "ipython",
    "version": 3
   },
   "file_extension": ".py",
   "mimetype": "text/x-python",
   "name": "python",
   "nbconvert_exporter": "python",
   "pygments_lexer": "ipython3",
   "version": "3.7.6"
  }
 },
 "nbformat": 4,
 "nbformat_minor": 4
}
