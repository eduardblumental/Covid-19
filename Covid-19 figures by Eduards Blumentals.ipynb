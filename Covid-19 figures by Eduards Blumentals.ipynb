{
 "cells": [
  {
   "cell_type": "markdown",
   "metadata": {},
   "source": [
    "First, let's import all the packages we will need for this project"
   ]
  },
  {
   "cell_type": "code",
   "execution_count": 1,
   "metadata": {},
   "outputs": [],
   "source": [
    "import requests\n",
    "from datetime import datetime, timedelta\n",
    "import pandas as pd\n",
    "import matplotlib.pyplot as plt \n",
    "import numpy as np"
   ]
  },
  {
   "cell_type": "markdown",
   "metadata": {},
   "source": [
    "Configure pandas"
   ]
  },
  {
   "cell_type": "code",
   "execution_count": 2,
   "metadata": {},
   "outputs": [],
   "source": [
    "pd.set_option('max_colwidth', 100)\n",
    "pd.set_option('display.max_rows', 100)\n",
    "pd.set_option('display.min_rows', None)"
   ]
  },
  {
   "cell_type": "markdown",
   "metadata": {},
   "source": [
    "To see the disease development over time, let's access the Covid-19 data API kindly provided by the [Johns Hopkins CSSE](https://covid19api.com/).\n",
    "\n",
    "[Postman COVID-19 API Resource Center](https://covid-19-apis.postman.com/)"
   ]
  },
  {
   "cell_type": "code",
   "execution_count": 3,
   "metadata": {},
   "outputs": [],
   "source": [
    "def timeSeriesInstructions():\n",
    "    \n",
    "    r = requests.get('https://api.covid19api.com/')\n",
    "    instructions_dic = r.json()\n",
    "    instructions = pd.DataFrame.from_dict(instructions_dic).transpose()\n",
    "    \n",
    "    return instructions"
   ]
  },
  {
   "cell_type": "code",
   "execution_count": 4,
   "metadata": {},
   "outputs": [
    {
     "name": "stdout",
     "output_type": "stream",
     "text": [
      "Congrats, tests for timeSeriesInstructions() function have been passed.\n"
     ]
    }
   ],
   "source": [
    "def testTimeSeriesInstructions():\n",
    "    \n",
    "    try:\n",
    "        instructions = timeSeriesInstructions()\n",
    "        assert instructions.empty == False\n",
    "        print(\"Congrats, tests for timeSeriesInstructions() function have been passed.\")\n",
    "    except:\n",
    "        print('Assertion error detected. Please, inspect timeSeriesInstructions() function.')\n",
    "testTimeSeriesInstructions()"
   ]
  },
  {
   "cell_type": "code",
   "execution_count": 5,
   "metadata": {},
   "outputs": [],
   "source": [
    "def filterDate(data, date = '2020-03-01'):\n",
    "    \n",
    "    filter_date = data['Date'] >= date\n",
    "    data = data[filter_date]\n",
    "    \n",
    "    return data"
   ]
  },
  {
   "cell_type": "code",
   "execution_count": 6,
   "metadata": {},
   "outputs": [],
   "source": [
    "def timeSeriesData(list_countries = ['estonia', 'latvia', 'lithuania']):\n",
    "\n",
    "    data = []\n",
    "\n",
    "    for country in list_countries:\n",
    "        r = requests.get(f'https://api.covid19api.com/country/{country}')\n",
    "        data_dic = r.json()\n",
    "        raw_data = pd.DataFrame.from_dict(data_dic)\n",
    "\n",
    "        filter_province = raw_data['Province'] != ''\n",
    "        raw_data.drop(index = raw_data[filter_province].index, inplace = True)\n",
    "\n",
    "        filter_columns = ['CountryCode', 'Province', 'City', 'CityCode', 'Lat', 'Lon', 'Active']\n",
    "        raw_data.drop(columns = filter_columns, inplace = True)\n",
    "\n",
    "        raw_data['Date'] = pd.to_datetime(raw_data['Date'], format = '%Y-%m-%dT%H:%M:%SZ')\n",
    "        \n",
    "        numeric_columns = ['Confirmed', 'Deaths', 'Recovered']\n",
    "        raw_data[numeric_columns] = raw_data[numeric_columns].apply(pd.to_numeric)\n",
    "\n",
    "        data.append(raw_data)\n",
    "\n",
    "    data = pd.concat(data)\n",
    "\n",
    "    column_names = ['Country', 'Date', 'Confirmed', 'Deaths', 'Recovered']\n",
    "    data = data.reindex(columns = column_names)\n",
    "\n",
    "    data = filterDate(data)\n",
    "    country_group = data.groupby('Country')    \n",
    "\n",
    "    return country_group"
   ]
  },
  {
   "cell_type": "code",
   "execution_count": 7,
   "metadata": {},
   "outputs": [],
   "source": [
    "def pickCountry(country_group, country_name):\n",
    "    \n",
    "    country_name = country_name.title()\n",
    "    ts_data = country_group.get_group(country_name)\n",
    "    ts_data.reset_index(drop = True, inplace = True)\n",
    "    \n",
    "    return ts_data"
   ]
  },
  {
   "cell_type": "code",
   "execution_count": 8,
   "metadata": {},
   "outputs": [],
   "source": [
    "def dailyChanges(ts_data, prc = False, periods = 1):\n",
    "    numeric_columns = ['Confirmed', 'Deaths', 'Recovered']\n",
    "    legend_data = ts_data[['Country', 'Date']]\n",
    "\n",
    "    if (prc):\n",
    "        change_data = round(100 * ts_data[numeric_columns].pct_change(periods = periods), 2)\n",
    "        change_data.replace([np.inf, np.nan], 0, inplace = True)\n",
    "    else:\n",
    "        change_data = ts_data[numeric_columns].diff(periods = periods)\n",
    "        change_data.replace([np.inf, np.nan], 0, inplace = True)\n",
    "        change_data = change_data.astype(int)\n",
    "\n",
    "    diff_data = pd.concat([legend_data, change_data], axis = 1)\n",
    "    \n",
    "    upper_bound = diff_data.index[:periods]\n",
    "    diff_data.drop(labels = upper_bound, axis = 0, inplace = True)\n",
    "    \n",
    "    diff_data.reset_index(drop = True, inplace = True)\n",
    "\n",
    "    return diff_data"
   ]
  },
  {
   "cell_type": "code",
   "execution_count": 9,
   "metadata": {},
   "outputs": [
    {
     "name": "stdout",
     "output_type": "stream",
     "text": [
      "Congrats, tests for timeSeriesData() function have been passed.\n",
      "Congrats, tests for dailyChanges() function have been passed.\n"
     ]
    }
   ],
   "source": [
    "def testTimeSeriesData():\n",
    "    \n",
    "    test = timeSeriesData()\n",
    "    test = pickCountry(test, 'Latvia')\n",
    "    \n",
    "    try:\n",
    "        assert test['Date'].iloc[0] == datetime.strptime('2020-03-01', '%Y-%m-%d')\n",
    "        assert list(test.columns) == ['Country', 'Date', 'Confirmed', 'Deaths', 'Recovered']\n",
    "        assert type(test['Confirmed'].iloc[0]) == np.int64        \n",
    "        print(\"Congrats, tests for timeSeriesData() function have been passed.\")       \n",
    "    except:\n",
    "        print('Assertion error detected. Please, inspect timeSeriesData() function.')\n",
    "        \n",
    "    test_diff = dailyChanges(test, prc = False)\n",
    "    test_pct = dailyChanges(test, prc = True)\n",
    "    \n",
    "    max_index = len(test['Confirmed']) - 1\n",
    "    index = np.random.randint(low = 1, high = max_index)\n",
    "    calculation_pct = round(100 * (test['Confirmed'].iloc[index]/test['Confirmed'].iloc[index-1] - 1), 2)\n",
    "    if (calculation_pct == np.inf) or (calculation_pct == np.nan):\n",
    "        calculation_pct = 0\n",
    "        \n",
    "    calculation_diff = test['Confirmed'].iloc[index] - test['Confirmed'].iloc[index - 1] \n",
    "        \n",
    "    try:    \n",
    "        assert calculation_pct == test_pct['Confirmed'].iloc[index-1]\n",
    "        assert calculation_diff == test_diff['Confirmed'].iloc[index-1]\n",
    "        print(\"Congrats, tests for dailyChanges() function have been passed.\")        \n",
    "    except:\n",
    "        print('Assertion error detected. Please, inspect dailyChanges() function.')   \n",
    "        \n",
    "testTimeSeriesData()"
   ]
  },
  {
   "cell_type": "markdown",
   "metadata": {},
   "source": [
    "To see more insights of the current situation, let's extract cross-sectional data from the [NovelCOVID API](https://github.com/javieraviles/covidAPI)"
   ]
  },
  {
   "cell_type": "code",
   "execution_count": 10,
   "metadata": {},
   "outputs": [],
   "source": [
    "def crossSectionalData():\n",
    "    \n",
    "    r = requests.get('https://coronavirus-19-api.herokuapp.com/countries')\n",
    "    cs_data_dic = r.json()\n",
    "    cs_data = pd.DataFrame.from_dict(cs_data_dic)\n",
    "    \n",
    "    cs_data = cs_data.loc[1:]\n",
    "    \n",
    "    cs_data = cs_data.apply(pd.to_numeric, errors = 'ignore')\n",
    "    cs_data.sort_values('cases', ascending = False, inplace = True)\n",
    "    \n",
    "    cs_data['Population (M)'] = round((cs_data['cases'] / cs_data['casesPerOneMillion']), 2)\n",
    "    \n",
    "    cs_data['Population (M)'].replace([np.inf, 0], np.nan, inplace = True)\n",
    "    cs_data.dropna(axis = 0, subset = ['Population (M)'], inplace = True)\n",
    "    \n",
    "    filter_columns = ['todayCases', 'todayDeaths', 'active', 'critical', 'casesPerOneMillion', 'deathsPerOneMillion', 'testsPerOneMillion']\n",
    "    cs_data.drop(columns = filter_columns, inplace = True)\n",
    "    \n",
    "    cs_data.columns = cs_data.columns.str.title()\n",
    "    cs_data.rename(columns = {'Totaltests': 'Tested'}, inplace = True)\n",
    "    cs_data.reset_index(drop = True, inplace = True)\n",
    "    \n",
    "    return cs_data"
   ]
  },
  {
   "cell_type": "markdown",
   "metadata": {},
   "source": [
    "For some reason China is missing. Some countries are reporting 0 cases per million of populations, hence their population is being astimated to be equal to infinity. As thsese countries do not impact the analysis much, I just remove these observations from the dataset. "
   ]
  },
  {
   "cell_type": "code",
   "execution_count": 11,
   "metadata": {},
   "outputs": [],
   "source": [
    "def aggregate(number_of_countries, include_other = True):\n",
    "    \n",
    "    cs_data = crossSectionalData()\n",
    "    lower_bound = number_of_countries + 1\n",
    "    \n",
    "    agg_part = cs_data.iloc[lower_bound:]\n",
    "    non_agg_part = cs_data.iloc[:number_of_countries] \n",
    "    \n",
    "    other_row = agg_part.sum(numeric_only=True)\n",
    "    other_row['country'] = 'Other countries*'\n",
    "    \n",
    "    if (include_other):\n",
    "        agg_data = non_agg_part.append(other_row, ignore_index=True)\n",
    "    else:\n",
    "        agg_data = non_agg_part\n",
    "        \n",
    "    return agg_data\n"
   ]
  },
  {
   "cell_type": "code",
   "execution_count": 12,
   "metadata": {},
   "outputs": [],
   "source": [
    "def testCrossSectionalData():\n",
    "    \n",
    "    test = crossSectionalData()\n",
    "    \n",
    "    upper_bound = len(test['Cases']) - 1\n",
    "    number_of_countries = np.random.randint(low = 0, high = upper_bound)\n",
    "    \n",
    "    try:\n",
    "        assert list(test.columns) == ['Country', 'Cases', 'Deaths', 'Recovered', 'Tested', 'Population (M)']\n",
    "        assert type(test['Cases'].iloc[0]) == np.int64\n",
    "        print('Congrats, tests for crossSectionalData() function have been passed.')\n",
    "    except:\n",
    "        print('Assertion error detected. Please, inspect crossSectionalData() function.')\n",
    "        \n",
    "    test_top = aggregate(number_of_countries, False)\n",
    "    test_agg = aggregate(number_of_countries, True)\n",
    "    \n",
    "    try:\n",
    "        assert len(test_top['Cases']) == number_of_countries\n",
    "        assert len(test_agg['Cases']) == number_of_countries + 1\n",
    "        print('Congrats, tests for aggregate() function have been passed.')\n",
    "    except:\n",
    "        print('Assertion error detected. Please, inspect aggregate() function.')\n",
    "  "
   ]
  },
  {
   "cell_type": "markdown",
   "metadata": {},
   "source": [
    "timeSeriesInstructions()\n",
    "\n",
    "filterDate(data, date = '2020-03-01')\n",
    "\n",
    "timeSeriesData(list_countries = \\['estonia', 'latvia', 'lithuania'\\])\n",
    "\n",
    "pickCountry(country_group, country_name)\n",
    "\n",
    "dailyChanges(ts_data, prc = False, periods = 1)\n",
    "\n",
    "\n",
    "crossSectionalData()\n",
    "\n",
    "aggregate(number_of_countries, include_other = True)\n"
   ]
  },
  {
   "cell_type": "code",
   "execution_count": 13,
   "metadata": {},
   "outputs": [
    {
     "name": "stdout",
     "output_type": "stream",
     "text": [
      "Congrats, tests for timeSeriesData() function have been passed.\n",
      "Congrats, tests for dailyChanges() function have been passed.\n",
      "Congrats, tests for crossSectionalData() function have been passed.\n",
      "Congrats, tests for aggregate() function have been passed.\n"
     ]
    }
   ],
   "source": [
    "timeSeriesInstructions()\n",
    "\n",
    "country_group = timeSeriesData()\n",
    "\n",
    "ts_data = pickCountry(country_group, 'Latvia')\n",
    "\n",
    "data = dailyChanges(ts_data, prc = True, periods = 1)\n",
    "\n",
    "cs_data = crossSectionalData()\n",
    "\n",
    "agg_data = aggregate(10, include_other = True)\n",
    "\n",
    "testTimeSeriesData()\n",
    "testCrossSectionalData()"
   ]
  }
 ],
 "metadata": {
  "kernelspec": {
   "display_name": "Python 3",
   "language": "python",
   "name": "python3"
  },
  "language_info": {
   "codemirror_mode": {
    "name": "ipython",
    "version": 3
   },
   "file_extension": ".py",
   "mimetype": "text/x-python",
   "name": "python",
   "nbconvert_exporter": "python",
   "pygments_lexer": "ipython3",
   "version": "3.7.6"
  }
 },
 "nbformat": 4,
 "nbformat_minor": 4
}
