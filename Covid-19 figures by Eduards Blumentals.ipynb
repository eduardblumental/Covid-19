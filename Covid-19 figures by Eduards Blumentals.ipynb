{
 "cells": [
  {
   "cell_type": "markdown",
   "metadata": {},
   "source": [
    "First, let's import all the packages we will need for this project"
   ]
  },
  {
   "cell_type": "code",
   "execution_count": 139,
   "metadata": {},
   "outputs": [],
   "source": [
    "import requests\n",
    "from datetime import datetime, timedelta\n",
    "import pandas as pd\n",
    "import matplotlib.pyplot as plt \n",
    "import numpy as np"
   ]
  },
  {
   "cell_type": "markdown",
   "metadata": {},
   "source": [
    "Configure pandas"
   ]
  },
  {
   "cell_type": "code",
   "execution_count": 140,
   "metadata": {},
   "outputs": [],
   "source": [
    "pd.set_option('max_colwidth', 100)\n",
    "pd.set_option('display.max_rows', 100)\n",
    "pd.set_option('display.min_rows', None)"
   ]
  },
  {
   "cell_type": "markdown",
   "metadata": {},
   "source": [
    "To see the disease development over time, let's access the Covid-19 data API kindly provided by the [Johns Hopkins CSSE](https://covid19api.com/).\n",
    "\n",
    "[Postman COVID-19 API Resource Center](https://covid-19-apis.postman.com/)"
   ]
  },
  {
   "cell_type": "code",
   "execution_count": 141,
   "metadata": {},
   "outputs": [],
   "source": [
    "def timeSeriesInstructions():\n",
    "    \n",
    "    r = requests.get('https://api.covid19api.com/')\n",
    "    instructions_dic = r.json()\n",
    "    instructions = pd.DataFrame.from_dict(instructions_dic).transpose()\n",
    "    \n",
    "    return instructions"
   ]
  },
  {
   "cell_type": "code",
   "execution_count": 142,
   "metadata": {},
   "outputs": [],
   "source": [
    "def filterDate(data, date = '2020-03-01'):\n",
    "    \n",
    "    filter_date = data['Date'] >= date\n",
    "    data = data[filter_date]\n",
    "    \n",
    "    return data"
   ]
  },
  {
   "cell_type": "code",
   "execution_count": 143,
   "metadata": {},
   "outputs": [],
   "source": [
    "def timeSeriesData(list_countries = ['estonia', 'latvia', 'lithuania']):\n",
    "\n",
    "    data = []\n",
    "\n",
    "    for country in list_countries:\n",
    "        r = requests.get(f'https://api.covid19api.com/country/{country}')\n",
    "        data_dic = r.json()\n",
    "        raw_data = pd.DataFrame.from_dict(data_dic)\n",
    "\n",
    "        filter_province = raw_data['Province'] != ''\n",
    "        raw_data.drop(index = raw_data[filter_province].index, inplace = True)\n",
    "\n",
    "        filter_columns = ['CountryCode', 'Province', 'City', 'CityCode', 'Lat', 'Lon', 'Active']\n",
    "        raw_data.drop(columns = filter_columns, inplace = True)\n",
    "\n",
    "        raw_data['Date'] = pd.to_datetime(raw_data['Date'], format = '%Y-%m-%dT%H:%M:%SZ')\n",
    "        \n",
    "        numeric_columns = ['Confirmed', 'Deaths', 'Recovered']\n",
    "        raw_data[numeric_columns] = raw_data[numeric_columns].apply(pd.to_numeric)\n",
    "\n",
    "        data.append(raw_data)\n",
    "\n",
    "    data = pd.concat(data)\n",
    "\n",
    "    column_names = ['Country', 'Date', 'Confirmed', 'Deaths', 'Recovered']\n",
    "    data = data.reindex(columns = column_names)\n",
    "\n",
    "    data = filterDate(data)\n",
    "    country_group = data.groupby('Country')\n",
    "\n",
    "    return country_group"
   ]
  },
  {
   "cell_type": "code",
   "execution_count": 144,
   "metadata": {},
   "outputs": [],
   "source": [
    "def timeSeriesPickCountry(country_group, country_name):\n",
    "    \n",
    "    country_name = country_name.title()\n",
    "    ts_data = country_group.get_group(country_name)\n",
    "    ts_data.reset_index(drop = True, inplace = True)\n",
    "    \n",
    "    return ts_data"
   ]
  },
  {
   "cell_type": "code",
   "execution_count": 145,
   "metadata": {},
   "outputs": [],
   "source": [
    "def timeSeriesDailyChanges(ts_data, prc = False, periods = 1):\n",
    "    numeric_columns = ['Confirmed', 'Deaths', 'Recovered']\n",
    "    legend_data = ts_data[['Country', 'Date']]\n",
    "\n",
    "    if (prc):\n",
    "        change_data = round(100 * ts_data[numeric_columns].pct_change(periods = periods), 2)\n",
    "        change_data.replace([np.inf, np.nan], 0, inplace = True)\n",
    "    else:\n",
    "        change_data = ts_data[numeric_columns].diff(periods = periods)\n",
    "        change_data.replace([np.inf, np.nan], 0, inplace = True)\n",
    "        change_data = change_data.astype(int)\n",
    "\n",
    "    diff_data = pd.concat([legend_data, change_data], axis = 1)\n",
    "    \n",
    "    upper_bound = diff_data.index[:periods]\n",
    "    diff_data.drop(labels = upper_bound, axis = 0, inplace = True)\n",
    "    \n",
    "    diff_data.reset_index(drop = True, inplace = True)\n",
    "\n",
    "    return diff_data"
   ]
  },
  {
   "cell_type": "code",
   "execution_count": null,
   "metadata": {
    "scrolled": true
   },
   "outputs": [],
   "source": [
    "d = timeSeriesData(['italy', 'united-kingdom'])\n",
    "ts_data = pickCountry(d, 'united kingdom')\n",
    "dailyChanges(ts_data, prc = True)"
   ]
  },
  {
   "cell_type": "markdown",
   "metadata": {},
   "source": [
    "To see more insights of the current situation, let's extract cross-sectional data from the [NovelCOVID API](https://github.com/javieraviles/covidAPI)"
   ]
  },
  {
   "cell_type": "code",
   "execution_count": 147,
   "metadata": {},
   "outputs": [],
   "source": [
    "def crossSectionalData():\n",
    "    \n",
    "    r = requests.get('https://coronavirus-19-api.herokuapp.com/countries')\n",
    "    cs_data_dic = r.json()\n",
    "    cs_data = pd.DataFrame.from_dict(cs_data_dic)\n",
    "    \n",
    "    cs_data = cs_data.loc[8:218]\n",
    "    \n",
    "    cs_data = cs_data.apply(pd.to_numeric, errors = 'ignore')\n",
    "    cs_data['Population (M)'] = round((cs_data['cases'] / cs_data['casesPerOneMillion']), 2)\n",
    "    \n",
    "    cs_data['Population (M)'].replace([np.inf, 0], np.nan, inplace = True)\n",
    "    cs_data.dropna(axis = 0, subset = ['Population (M)'], inplace = True)\n",
    "    \n",
    "    filter_columns = ['todayCases', 'todayDeaths', 'active', 'critical', 'casesPerOneMillion', 'deathsPerOneMillion', 'testsPerOneMillion']\n",
    "    cs_data.drop(columns = filter_columns, inplace = True)\n",
    "    \n",
    "    cs_data.reset_index(drop = True, inplace = True)\n",
    "    \n",
    "    return cs_data"
   ]
  },
  {
   "cell_type": "markdown",
   "metadata": {},
   "source": [
    "For some reason China is missing. Some countries are reporting 0 cases per million of populations, hence their population is being astimated to be equal to infinity. As thsese countries do not impact the analysis much, I just remove these observations from the dataset. "
   ]
  },
  {
   "cell_type": "code",
   "execution_count": 148,
   "metadata": {},
   "outputs": [],
   "source": [
    "def aggregateCrossSectionalData(number_of_countries, include_other = True):\n",
    "    \n",
    "    cs_data = crossSectionalData()\n",
    "    lower_bound = number_of_countries + 1\n",
    "    \n",
    "    agg_part = cs_data.iloc[lower_bound:]\n",
    "    non_agg_part = cs_data.iloc[:number_of_countries] \n",
    "    \n",
    "    other_row = agg_part.sum(numeric_only=True)\n",
    "    other_row['country'] = 'Other countries*'\n",
    "    \n",
    "    if (include_other):\n",
    "        agg_data = non_agg_part.append(other_row, ignore_index=True)\n",
    "    else:\n",
    "        agg_data = non_agg_part\n",
    "        \n",
    "    return agg_data\n"
   ]
  },
  {
   "cell_type": "code",
   "execution_count": null,
   "metadata": {},
   "outputs": [],
   "source": [
    "aggregateOtherCountries(number_of_countries = 10, include_other = True)"
   ]
  }
 ],
 "metadata": {
  "kernelspec": {
   "display_name": "Python 3",
   "language": "python",
   "name": "python3"
  },
  "language_info": {
   "codemirror_mode": {
    "name": "ipython",
    "version": 3
   },
   "file_extension": ".py",
   "mimetype": "text/x-python",
   "name": "python",
   "nbconvert_exporter": "python",
   "pygments_lexer": "ipython3",
   "version": "3.7.6"
  }
 },
 "nbformat": 4,
 "nbformat_minor": 4
}
