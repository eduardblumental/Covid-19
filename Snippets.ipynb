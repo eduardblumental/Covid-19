{
 "cells": [
  {
   "cell_type": "markdown",
   "metadata": {},
   "source": [
    "Filters"
   ]
  },
  {
   "cell_type": "code",
   "execution_count": null,
   "metadata": {},
   "outputs": [],
   "source": [
    "yesterday = datetime.date(datetime.today() - timedelta(1))\n",
    "filter_date = data['Date'] == str(yesterday)\n",
    "filter_country = data['Country'] == 'United States of America'\n",
    "filter_province = data['Province'] == ''"
   ]
  },
  {
   "cell_type": "markdown",
   "metadata": {},
   "source": [
    "Data 07.05"
   ]
  },
  {
   "cell_type": "code",
   "execution_count": 4,
   "metadata": {},
   "outputs": [],
   "source": [
    "# import requests\n",
    "# import pandas as pd\n",
    "\n",
    "# r = requests.get('https://coronavirus-19-api.herokuapp.com/countries')\n",
    "# cs_data_dic = r.json()\n",
    "# cs_data = pd.DataFrame.from_dict(cs_data_dic)\n",
    "\n",
    "# cs_data.to_json('data07052020', orient = 'records', lines = True)"
   ]
  }
 ],
 "metadata": {
  "kernelspec": {
   "display_name": "Python 3",
   "language": "python",
   "name": "python3"
  },
  "language_info": {
   "codemirror_mode": {
    "name": "ipython",
    "version": 3
   },
   "file_extension": ".py",
   "mimetype": "text/x-python",
   "name": "python",
   "nbconvert_exporter": "python",
   "pygments_lexer": "ipython3",
   "version": "3.7.6"
  }
 },
 "nbformat": 4,
 "nbformat_minor": 4
}
